{
 "cells": [
  {
   "cell_type": "markdown",
   "metadata": {},
   "source": [
    "En está sección, haremos un análisis categórico con pruebas ANOVA para las variables identificadas en la primera sección que tienen una distribución normal.\n",
    "\n",
    "https://www.cienciadedatos.net/documentos/pystats09-analisis-de-varianza-anova-python.html"
   ]
  },
  {
   "cell_type": "code",
   "execution_count": 5,
   "metadata": {},
   "outputs": [
    {
     "data": {
      "text/html": [
       "<div>\n",
       "<style scoped>\n",
       "    .dataframe tbody tr th:only-of-type {\n",
       "        vertical-align: middle;\n",
       "    }\n",
       "\n",
       "    .dataframe tbody tr th {\n",
       "        vertical-align: top;\n",
       "    }\n",
       "\n",
       "    .dataframe thead th {\n",
       "        text-align: right;\n",
       "    }\n",
       "</style>\n",
       "<table border=\"1\" class=\"dataframe\">\n",
       "  <thead>\n",
       "    <tr style=\"text-align: right;\">\n",
       "      <th></th>\n",
       "      <th>Tipo 1</th>\n",
       "      <th>Tipo 2</th>\n",
       "      <th>Variable</th>\n",
       "    </tr>\n",
       "  </thead>\n",
       "  <tbody>\n",
       "    <tr>\n",
       "      <th>0</th>\n",
       "      <td>Manifestación de parte</td>\n",
       "      <td>Consignación billete de deposito</td>\n",
       "      <td>X_apellido_actor</td>\n",
       "    </tr>\n",
       "    <tr>\n",
       "      <th>1</th>\n",
       "      <td>Solicitud de copias certificadas</td>\n",
       "      <td>Manifestación de parte</td>\n",
       "      <td>X_apellido_actor</td>\n",
       "    </tr>\n",
       "    <tr>\n",
       "      <th>2</th>\n",
       "      <td>Solicitud de copias certificadas</td>\n",
       "      <td>Consignación billete de deposito</td>\n",
       "      <td>X_apellido_actor</td>\n",
       "    </tr>\n",
       "    <tr>\n",
       "      <th>3</th>\n",
       "      <td>Solicitud de copias certificadas</td>\n",
       "      <td>Manifestación de parte</td>\n",
       "      <td>X_nombre_actor</td>\n",
       "    </tr>\n",
       "    <tr>\n",
       "      <th>4</th>\n",
       "      <td>Solicitud de copias certificadas</td>\n",
       "      <td>Manifestación de parte</td>\n",
       "      <td>X_nombre_demandado</td>\n",
       "    </tr>\n",
       "  </tbody>\n",
       "</table>\n",
       "</div>"
      ],
      "text/plain": [
       "                             Tipo 1                            Tipo 2  \\\n",
       "0            Manifestación de parte  Consignación billete de deposito   \n",
       "1  Solicitud de copias certificadas            Manifestación de parte   \n",
       "2  Solicitud de copias certificadas  Consignación billete de deposito   \n",
       "3  Solicitud de copias certificadas            Manifestación de parte   \n",
       "4  Solicitud de copias certificadas            Manifestación de parte   \n",
       "\n",
       "             Variable  \n",
       "0    X_apellido_actor  \n",
       "1    X_apellido_actor  \n",
       "2    X_apellido_actor  \n",
       "3      X_nombre_actor  \n",
       "4  X_nombre_demandado  "
      ]
     },
     "execution_count": 5,
     "metadata": {},
     "output_type": "execute_result"
    }
   ],
   "source": [
    "import pandas as pd\n",
    "import warnings\n",
    "warnings.filterwarnings('ignore')\n",
    "\n",
    "df = pd.read_excel('1_Descr_normal.xlsx', sheet_name='Transformados continuas', index_col=0)\n",
    "\n",
    "elec_metodo = pd.read_excel('1_Descr_normal.xlsx', sheet_name='Elección método analisis').drop(['Distribución normal del par tipo / variable continua'], axis=1)\n",
    "elec_metodo = elec_metodo.loc[elec_metodo['Prueba'] == 'ANOVA']\n",
    "elec_metodo = elec_metodo.drop(['Prueba'], axis=1).reset_index(drop=True)\n",
    "\n",
    "tipos = list(pd.unique(df['Y_type']))\n",
    "variables = list(pd.unique(elec_metodo['Variable']))\n",
    "\n",
    "groups = {}\n",
    "for v in variables:\n",
    "    groups[v] = {}\n",
    "\n",
    "for t in tipos:\n",
    "    doc = df.loc[df['Y_type'] == t]\n",
    "    for v in variables:\n",
    "        groups[v][t] = list(doc[v])\n",
    "\n",
    "elec_metodo"
   ]
  },
  {
   "cell_type": "markdown",
   "metadata": {},
   "source": [
    "Una ANOVA unidireccional utiliza las siguientes hipótesis nulas y alternativas:\n",
    "\n",
    "- H0 (hipótesis nula): μ 1 = μ 2 = μ 3 =… = μ k (todas las medias poblacionales son iguales)\n",
    "- H1 (hipótesis alternativa): al menos una media poblacional es diferente del resto\n",
    "\n",
    "El ANOVA es bastante robusto a la falta de homodedasticidad si el diseño es equilibrado (mismo número de observaciones por grupo), entonces omitiremos el test de homodedasticidad en nuestro caso.\n",
    "\n",
    "1. Variable Apellido Actor\n",
    "\n",
    "Compararemos la varianza de la variable Apellido Actor para la clasificación entre:\n",
    "- Manifestación de parte y Consignación billete de deposito \n",
    "- Solicitud de copias certificadas, Manifestación de parte \n",
    "- Solicitud de copias certificadas y Consignación billete de deposito.\n",
    "\n",
    "2. Compararemos la varianza de la variable Nombre Actor para la clasificación entre Solicitud de copias certificadas, Manifestación de parte\n",
    "3. Compararemos la varianza de la variable Nombre Demandado para la clasificación entre Solicitud de copias certificadas, Manifestación de parte\n",
    "\n",
    "\n",
    "## 1. Variable Apellido Actor"
   ]
  },
  {
   "cell_type": "code",
   "execution_count": 17,
   "metadata": {},
   "outputs": [
    {
     "name": "stdout",
     "output_type": "stream",
     "text": [
      "Manifestación de parte y Consignación billete de deposito\n",
      "F_onewayResult(statistic=0.8765537417918144, pvalue=0.3581040560313825)\n",
      "Solicitud de copias certificadas y Manifestación de parte\n",
      "F_onewayResult(statistic=1.654712643763896, pvalue=0.20965589620984962)\n",
      "Solicitud de copias certificadas y Consignación billete de deposito\n",
      "F_onewayResult(statistic=0.45659736789649935, pvalue=0.5054215776916644)\n"
     ]
    }
   ],
   "source": [
    "from scipy.stats import f_oneway\n",
    "\n",
    "grupo1 = df.loc[df['Y_type'] == 'Manifestación de parte']['X_apellido_actor']\n",
    "grupo2 = df.loc[df['Y_type'] == 'Consignación billete de deposito']['X_apellido_actor']\n",
    "grupo3 = df.loc[df['Y_type'] == 'Solicitud de copias certificadas']['X_apellido_actor']\n",
    "\n",
    "print('Manifestación de parte y Consignación billete de deposito')\n",
    "print(f_oneway(grupo1, grupo2))\n",
    "\n",
    "print('Solicitud de copias certificadas y Manifestación de parte')\n",
    "print(f_oneway(grupo3, grupo1))\n",
    "\n",
    "print('Solicitud de copias certificadas y Consignación billete de deposito')\n",
    "print(f_oneway(grupo3, grupo2))"
   ]
  },
  {
   "cell_type": "markdown",
   "metadata": {},
   "source": [
    "En cada uno de los casos, dado que el p-value no es menor que 0.05, no podemos rechazar la hipótesis nula. Esto significa que no tenemos evidencia suficiente para decir que el apellido del actor permite diferenciar entre los documentos. Eso confirma la prueba no paramétrica realizada en la sección 2.\n",
    "\n",
    "## 2. Compararemos la varianza de la variable Nombre Actor para la clasificación entre Solicitud de copias certificadas y Manifestación de parte."
   ]
  },
  {
   "cell_type": "code",
   "execution_count": 18,
   "metadata": {},
   "outputs": [
    {
     "name": "stdout",
     "output_type": "stream",
     "text": [
      "Solicitud de copias certificadas y Manifestación de parte\n",
      "F_onewayResult(statistic=1.2692613937320105, pvalue=0.270196498717093)\n"
     ]
    }
   ],
   "source": [
    "grupo1 = df.loc[df['Y_type'] == 'Solicitud de copias certificadas']['X_nombre_actor']\n",
    "grupo2 = df.loc[df['Y_type'] == 'Manifestación de parte']['X_nombre_actor']\n",
    "\n",
    "print('Solicitud de copias certificadas y Manifestación de parte')\n",
    "print(f_oneway(grupo1, grupo2))"
   ]
  },
  {
   "cell_type": "markdown",
   "metadata": {},
   "source": [
    "Dado que el p-value no es menor que 0.05, no podemos rechazar la hipótesis nula. Esto significa que no tenemos evidencia suficiente para decir que el nombre del actor permite diferenciar entre los documentos Solicitud de copias certificadas y Manifestación de parte. Eso confirma la prueba no paramétrica realizada en la sección 2.\n",
    "\n",
    "## 3. Compararemos la varianza de la variable Nombre Demandado para la clasificación entre Solicitud de copias certificadas y Manifestación de parte"
   ]
  },
  {
   "cell_type": "code",
   "execution_count": 19,
   "metadata": {},
   "outputs": [
    {
     "name": "stdout",
     "output_type": "stream",
     "text": [
      "Solicitud de copias certificadas y Manifestación de parte\n",
      "F_onewayResult(statistic=0.21240803951588183, pvalue=0.6487185571428585)\n"
     ]
    }
   ],
   "source": [
    "grupo1 = df.loc[df['Y_type'] == 'Solicitud de copias certificadas']['X_nombre_demandado']\n",
    "grupo2 = df.loc[df['Y_type'] == 'Manifestación de parte']['X_nombre_demandado']\n",
    "\n",
    "print('Solicitud de copias certificadas y Manifestación de parte')\n",
    "print(f_oneway(grupo1, grupo2))"
   ]
  },
  {
   "cell_type": "markdown",
   "metadata": {},
   "source": [
    "Dado que el p-value no es menor que 0.05, no podemos rechazar la hipótesis nula. Esto significa que no tenemos evidencia suficiente para decir que el nombre del demandado permite diferenciar entre los documentos Solicitud de copias certificadas y Manifestación de parte. Eso confirma la prueba no paramétrica realizada en la sección 2."
   ]
  }
 ],
 "metadata": {
  "kernelspec": {
   "display_name": "Python 3.8.12 ('base')",
   "language": "python",
   "name": "python3"
  },
  "language_info": {
   "codemirror_mode": {
    "name": "ipython",
    "version": 3
   },
   "file_extension": ".py",
   "mimetype": "text/x-python",
   "name": "python",
   "nbconvert_exporter": "python",
   "pygments_lexer": "ipython3",
   "version": "3.8.12"
  },
  "orig_nbformat": 4,
  "vscode": {
   "interpreter": {
    "hash": "3a37aa677fa97143dc02ffad92af644d6e59fb8e41130680c4ad8e633f2ee248"
   }
  }
 },
 "nbformat": 4,
 "nbformat_minor": 2
}
