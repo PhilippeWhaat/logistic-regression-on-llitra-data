{
 "cells": [
  {
   "cell_type": "code",
   "execution_count": 1,
   "metadata": {},
   "outputs": [
    {
     "data": {
      "text/plain": [
       "{'B-apellido_actor': [],\n",
       " 'B-nombre_actor': [],\n",
       " 'B-nombre_demandado': [],\n",
       " 'B-apellido_demandado': [],\n",
       " 'B-nombre_autorizado': [],\n",
       " 'B-apellido_autorizado': [],\n",
       " 'B-num_expediente': [],\n",
       " 'B-nombre_otro': [],\n",
       " 'B-apellido_otro': [],\n",
       " 'B-num_juzgado': []}"
      ]
     },
     "execution_count": 1,
     "metadata": {},
     "output_type": "execute_result"
    }
   ],
   "source": [
    "import matplotlib.pyplot as plt\n",
    "import numpy as np\n",
    "import pandas as pd\n",
    "\n",
    "df = pd.read_csv('0_df_count.csv', encoding = \"UTF-8\", index_col=0)\n",
    "\n",
    "tags=[i for i in list(df.columns) if i.startswith('B-')]\n",
    "\n",
    "def def_dict_tag():\n",
    "    dict_tag = {}\n",
    "    for t in tags:\n",
    "        dict_tag[t] = []\n",
    "    return dict_tag\n",
    "    \n",
    "\n",
    "dict_tag = def_dict_tag()\n",
    "dict_tag\n"
   ]
  },
  {
   "cell_type": "code",
   "execution_count": 2,
   "metadata": {},
   "outputs": [
    {
     "data": {
      "text/plain": [
       "<Figure size 432x288 with 0 Axes>"
      ]
     },
     "metadata": {},
     "output_type": "display_data"
    }
   ],
   "source": [
    "def draw_hist(cat_tag):\n",
    "    # An \"interface\" to matplotlib.axes.Axes.hist() method\n",
    "    for cat in cat_tag:\n",
    "        for t in cat_tag[cat]:\n",
    "            d = cat_tag[cat][t]\n",
    "            n, bins, patches = plt.hist(x=d, bins='auto', color='#0504aa',\n",
    "                                        alpha=0.7, rwidth=0.85)\n",
    "            plt.grid(axis='y', alpha=0.75)\n",
    "            plt.xlabel('Value')\n",
    "            plt.ylabel('Frequency')\n",
    "            plt.title(f'{t} in {cat}')\n",
    "            #plt.text(23, 45, r'$\\mu=15, b=3$')\n",
    "            maxfreq = n.max()\n",
    "            # Set a clean upper y-axis limit.\n",
    "            plt.ylim(ymax=np.ceil(maxfreq / 10) * 10 if maxfreq % 10 else maxfreq + 10)\n",
    "            plt.savefig(f\"0-Histograms/{cat} - {t}\")\n",
    "            plt.clf()\n",
    "\n",
    "unique_types = pd.unique(df['type'])\n",
    "cat_tag = {}\n",
    "\n",
    "for ut in unique_types:\n",
    "    for t in tags:\n",
    "        for ind in df.index:\n",
    "            if df['type'][ind] == ut:\n",
    "                dict_tag[t].append(df[t][ind])\n",
    "    cat_tag[ut] = dict_tag\n",
    "    dict_tag = def_dict_tag()\n",
    "\n",
    "draw_hist(cat_tag)\n",
    "\n"
   ]
  },
  {
   "cell_type": "code",
   "execution_count": 3,
   "metadata": {},
   "outputs": [
    {
     "data": {
      "text/plain": [
       "<Figure size 432x288 with 0 Axes>"
      ]
     },
     "metadata": {},
     "output_type": "display_data"
    }
   ],
   "source": [
    "for t in df.columns:\n",
    "    d = df[t]\n",
    "    #d = [value for value in d if value != 0]\n",
    "    n, bins, patches = plt.hist(x=d, bins='auto', color='#0504aa',\n",
    "                                alpha=0.7, rwidth=0.85)\n",
    "    plt.grid(axis='y', alpha=0.75)\n",
    "    plt.xlabel('Value')\n",
    "    plt.ylabel('Frequency')\n",
    "    plt.title(f'{t}')\n",
    "    #plt.text(23, 45, r'$\\mu=15, b=3$')\n",
    "    maxfreq = n.max()\n",
    "    # Set a clean upper y-axis limit.\n",
    "    plt.ylim(ymax=np.ceil(maxfreq / 10) * 10 if maxfreq % 10 else maxfreq + 10)\n",
    "    plt.savefig(f\"0-Histograms/_general/{t}\")\n",
    "    plt.clf()"
   ]
  }
 ],
 "metadata": {
  "kernelspec": {
   "display_name": "Python 3.8.12 ('base')",
   "language": "python",
   "name": "python3"
  },
  "language_info": {
   "codemirror_mode": {
    "name": "ipython",
    "version": 3
   },
   "file_extension": ".py",
   "mimetype": "text/x-python",
   "name": "python",
   "nbconvert_exporter": "python",
   "pygments_lexer": "ipython3",
   "version": "3.8.12"
  },
  "orig_nbformat": 4,
  "vscode": {
   "interpreter": {
    "hash": "3a37aa677fa97143dc02ffad92af644d6e59fb8e41130680c4ad8e633f2ee248"
   }
  }
 },
 "nbformat": 4,
 "nbformat_minor": 2
}
